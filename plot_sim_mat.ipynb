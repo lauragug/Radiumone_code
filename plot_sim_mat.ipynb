{
 "cells": [
  {
   "cell_type": "code",
   "execution_count": 1,
   "metadata": {
    "collapsed": false
   },
   "outputs": [],
   "source": [
    "import sys\n",
    "import string\n",
    "import numpy as np\n",
    "import math\n",
    "\n",
    "input_file = open('siteids_n_users_10M_50000_150.txt', 'r')\n",
    "table = string.maketrans(\"\",\"\")\n",
    "input_file1 = open('siteids_shared_users_10M_50000_150.txt', 'r')\n",
    "n_sites = 5574\n",
    "n_points = n_sites*(n_sites-1)\n",
    "sim_mat=np.eye(n_sites)\n",
    "mod_dict = {}\n",
    "order_dict = {}"
   ]
  },
  {
   "cell_type": "code",
   "execution_count": 2,
   "metadata": {
    "collapsed": false
   },
   "outputs": [],
   "source": [
    "# load n_users and siteid into dict\n",
    "i = 0\n",
    "for line in input_file:\n",
    "    words = line.translate(table, string.punctuation).split()\n",
    "    for word in words:\n",
    "        #print words\n",
    "        siteid = words[0].lstrip('u')\n",
    "        n_users = int(words[1])\n",
    "        if siteid not in mod_dict: \n",
    "            mod_dict[siteid] = math.sqrt(float(n_users))\n",
    "            order_dict[siteid] = i\n",
    "            i += 1"
   ]
  },
  {
   "cell_type": "code",
   "execution_count": 3,
   "metadata": {
    "collapsed": false
   },
   "outputs": [],
   "source": [
    "# compute similarity matrix\n",
    "for line in input_file1:\n",
    "    words = line.translate(table, string.punctuation).split()\n",
    "    for word in words:\n",
    "        #print words\n",
    "        siteid1 = words[0].lstrip('u')\n",
    "        siteid2 = words[1].lstrip('u')\n",
    "        shared_users = int(words[2])\n",
    "        if siteid1 in mod_dict and siteid2 in mod_dict: \n",
    "            sim_mat[order_dict[siteid1]][order_dict[siteid2]] = 100.*shared_users/mod_dict[siteid1]/mod_dict[siteid1]\n",
    "        else:\n",
    "            print siteid1,siteid2"
   ]
  },
  {
   "cell_type": "code",
   "execution_count": 4,
   "metadata": {
    "collapsed": true
   },
   "outputs": [],
   "source": [
    "%matplotlib inline\n",
    "import matplotlib\n",
    "from matplotlib import pyplot as plt\n",
    "data = sim_mat[:10][:10]\n",
    "#from sklearn.metrics import consensus_score\n",
    "from sklearn.cluster.bicluster import SpectralBiclustering\n",
    "import numpy as np\n",
    "from sklearn.datasets import make_checkerboard\n",
    "from sklearn.datasets import samples_generator as sg\n",
    "from sklearn.metrics import consensus_score\n",
    "import seaborn as sns\n",
    "sns.set(context=\"paper\", font=\"monospace\")\n",
    "sns.set_context(\"notebook\", font_scale=1.6, rc={\"lines.linewidth\": 2.5})"
   ]
  }
 ],
 "metadata": {
  "kernelspec": {
   "display_name": "Python 2",
   "language": "python",
   "name": "python2"
  },
  "language_info": {
   "codemirror_mode": {
    "name": "ipython",
    "version": 2
   },
   "file_extension": ".py",
   "mimetype": "text/x-python",
   "name": "python",
   "nbconvert_exporter": "python",
   "pygments_lexer": "ipython2",
   "version": "2.7.10"
  }
 },
 "nbformat": 4,
 "nbformat_minor": 0
}
