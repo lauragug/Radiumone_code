{
 "cells": [
  {
   "cell_type": "code",
   "execution_count": 1,
   "metadata": {
    "collapsed": false
   },
   "outputs": [],
   "source": [
    "import pymysql as mdb\n",
    "import pandas as pd\n",
    "from pandas import Series,DataFrame\n",
    "con = mdb.connect('localhost', 'root', '', 'r1') #host, user, password, #database"
   ]
  },
  {
   "cell_type": "code",
   "execution_count": 2,
   "metadata": {
    "collapsed": false
   },
   "outputs": [],
   "source": [
    "with con:\n",
    "   cur = con.cursor()\n",
    "   cur.execute(\"DROP TABLE IF EXISTS users_query\")\n",
    "   cur.execute(\"\"\"\n",
    "   CREATE TABLE users_query(\n",
    "      date DATE,\n",
    "      userid BIGINT,\n",
    "      siteid CHAR(20),\n",
    "      timestamp BIGINT,\n",
    "      visit INT);\n",
    "   \"\"\")\n",
    "   cur.execute(\"\"\"\n",
    "   LOAD DATA INFILE 'insight_site_staging_3M.txt' \n",
    "   INTO TABLE users_query \n",
    "   FIELDS TERMINATED BY '\\t'\n",
    "   LINES TERMINATED BY '\\n';\n",
    "   \"\"\")"
   ]
  },
  {
   "cell_type": "code",
   "execution_count": 3,
   "metadata": {
    "collapsed": false
   },
   "outputs": [],
   "source": [
    "with con:\n",
    "   cur = con.cursor()\n",
    "   users = pd.read_sql_query(\n",
    "        \"\"\"SELECT userid,siteid\n",
    "        FROM users_query WHERE siteid <> 'Null'\n",
    "        ;\"\"\",\n",
    "        con\n",
    "        )"
   ]
  },
  {
   "cell_type": "code",
   "execution_count": 4,
   "metadata": {
    "collapsed": false
   },
   "outputs": [],
   "source": [
    "with con:\n",
    "   cur = con.cursor()\n",
    "   cur.execute(\"DROP TABLE IF EXISTS conv_query\")\n",
    "   cur.execute(\"\"\"\n",
    "   CREATE TABLE conv_query(\n",
    "      date DATE,\n",
    "      userid BIGINT,\n",
    "      siteid CHAR(20),\n",
    "      timestamp BIGINT,\n",
    "      visit INT);\n",
    "   \"\"\")\n",
    "   cur.execute(\"\"\"\n",
    "   LOAD DATA INFILE 'insight_converter_site_history.txt' \n",
    "   INTO TABLE conv_query \n",
    "   FIELDS TERMINATED BY '\\t'\n",
    "   LINES TERMINATED BY '\\n';\n",
    "   \"\"\")"
   ]
  },
  {
   "cell_type": "code",
   "execution_count": 5,
   "metadata": {
    "collapsed": true
   },
   "outputs": [],
   "source": [
    "with con:\n",
    "   cur = con.cursor()\n",
    "   conv = pd.read_sql_query(\n",
    "        \"\"\"SELECT userid,siteid\n",
    "        FROM conv_query WHERE siteid <> 'Null'\n",
    "        ;\"\"\",\n",
    "        con\n",
    "        )"
   ]
  },
  {
   "cell_type": "code",
   "execution_count": 6,
   "metadata": {
    "collapsed": false
   },
   "outputs": [],
   "source": [
    "%matplotlib inline\n",
    "import matplotlib\n",
    "import matplotlib.pyplot as plt\n",
    "import pylab as pl\n",
    "import seaborn as sns\n",
    "sns.set(style=\"whitegrid\")"
   ]
  },
  {
   "cell_type": "code",
   "execution_count": 7,
   "metadata": {
    "collapsed": true
   },
   "outputs": [],
   "source": [
    "group_conv_query=conv.groupby(['siteid'])\n",
    "group_users_query=users.groupby(['siteid'])"
   ]
  },
  {
   "cell_type": "code",
   "execution_count": 8,
   "metadata": {
    "collapsed": false
   },
   "outputs": [],
   "source": [
    "group_conv_query_sorted=group_conv_query.count().sort(['userid'],ascending=[0]).userid\n",
    "group_users_query_sorted=group_users_query.count().sort(['userid'],ascending=[0]).userid"
   ]
  },
  {
   "cell_type": "code",
   "execution_count": 17,
   "metadata": {
    "collapsed": false
   },
   "outputs": [
    {
     "data": {
      "text/plain": [
       "siteid\n",
       "5             130079\n",
       "1099962644    120150\n",
       "388           119193\n",
       "81309          82354\n",
       "81726          70550\n",
       "Name: userid, dtype: int64"
      ]
     },
     "execution_count": 17,
     "metadata": {},
     "output_type": "execute_result"
    }
   ],
   "source": [
    "group_conv_query_sorted.head()"
   ]
  },
  {
   "cell_type": "code",
   "execution_count": 9,
   "metadata": {
    "collapsed": false
   },
   "outputs": [],
   "source": [
    "df_conv_site = DataFrame({'number_users': list(group_conv_query_sorted.values)},index = list(group_conv_query_sorted.index))\n",
    "df_users_site = DataFrame({'number_users': list(group_users_query_sorted.values)},index = list(group_users_query_sorted.index))"
   ]
  },
  {
   "cell_type": "code",
   "execution_count": 18,
   "metadata": {
    "collapsed": false
   },
   "outputs": [
    {
     "data": {
      "text/html": [
       "<div>\n",
       "<table border=\"1\" class=\"dataframe\">\n",
       "  <thead>\n",
       "    <tr style=\"text-align: right;\">\n",
       "      <th></th>\n",
       "      <th>number_users</th>\n",
       "    </tr>\n",
       "  </thead>\n",
       "  <tbody>\n",
       "    <tr>\n",
       "      <th>5</th>\n",
       "      <td>130079</td>\n",
       "    </tr>\n",
       "    <tr>\n",
       "      <th>1099962644</th>\n",
       "      <td>120150</td>\n",
       "    </tr>\n",
       "    <tr>\n",
       "      <th>388</th>\n",
       "      <td>119193</td>\n",
       "    </tr>\n",
       "    <tr>\n",
       "      <th>81309</th>\n",
       "      <td>82354</td>\n",
       "    </tr>\n",
       "    <tr>\n",
       "      <th>81726</th>\n",
       "      <td>70550</td>\n",
       "    </tr>\n",
       "  </tbody>\n",
       "</table>\n",
       "</div>"
      ],
      "text/plain": [
       "            number_users\n",
       "5                 130079\n",
       "1099962644        120150\n",
       "388               119193\n",
       "81309              82354\n",
       "81726              70550"
      ]
     },
     "execution_count": 18,
     "metadata": {},
     "output_type": "execute_result"
    }
   ],
   "source": [
    "df_conv_site.head()"
   ]
  },
  {
   "cell_type": "code",
   "execution_count": 33,
   "metadata": {
    "collapsed": false
   },
   "outputs": [],
   "source": [
    "df_conv_site['binned'] = df_conv_site['number_users'].map(lambda x: int(x/100)*100)"
   ]
  },
  {
   "cell_type": "code",
   "execution_count": 34,
   "metadata": {
    "collapsed": false
   },
   "outputs": [
    {
     "data": {
      "text/html": [
       "<div>\n",
       "<table border=\"1\" class=\"dataframe\">\n",
       "  <thead>\n",
       "    <tr style=\"text-align: right;\">\n",
       "      <th></th>\n",
       "      <th>number_users</th>\n",
       "      <th>binned</th>\n",
       "    </tr>\n",
       "  </thead>\n",
       "  <tbody>\n",
       "    <tr>\n",
       "      <th>5</th>\n",
       "      <td>130079</td>\n",
       "      <td>130000</td>\n",
       "    </tr>\n",
       "    <tr>\n",
       "      <th>1099962644</th>\n",
       "      <td>120150</td>\n",
       "      <td>120100</td>\n",
       "    </tr>\n",
       "    <tr>\n",
       "      <th>388</th>\n",
       "      <td>119193</td>\n",
       "      <td>119100</td>\n",
       "    </tr>\n",
       "    <tr>\n",
       "      <th>81309</th>\n",
       "      <td>82354</td>\n",
       "      <td>82300</td>\n",
       "    </tr>\n",
       "    <tr>\n",
       "      <th>81726</th>\n",
       "      <td>70550</td>\n",
       "      <td>70500</td>\n",
       "    </tr>\n",
       "    <tr>\n",
       "      <th>1334653</th>\n",
       "      <td>43482</td>\n",
       "      <td>43400</td>\n",
       "    </tr>\n",
       "    <tr>\n",
       "      <th>83981</th>\n",
       "      <td>43090</td>\n",
       "      <td>43000</td>\n",
       "    </tr>\n",
       "    <tr>\n",
       "      <th>585119</th>\n",
       "      <td>39888</td>\n",
       "      <td>39800</td>\n",
       "    </tr>\n",
       "    <tr>\n",
       "      <th>521</th>\n",
       "      <td>31933</td>\n",
       "      <td>31900</td>\n",
       "    </tr>\n",
       "    <tr>\n",
       "      <th>84734</th>\n",
       "      <td>28686</td>\n",
       "      <td>28600</td>\n",
       "    </tr>\n",
       "    <tr>\n",
       "      <th>81340</th>\n",
       "      <td>28380</td>\n",
       "      <td>28300</td>\n",
       "    </tr>\n",
       "    <tr>\n",
       "      <th>1902</th>\n",
       "      <td>26712</td>\n",
       "      <td>26700</td>\n",
       "    </tr>\n",
       "    <tr>\n",
       "      <th>2077</th>\n",
       "      <td>26096</td>\n",
       "      <td>26000</td>\n",
       "    </tr>\n",
       "    <tr>\n",
       "      <th>83660</th>\n",
       "      <td>26077</td>\n",
       "      <td>26000</td>\n",
       "    </tr>\n",
       "    <tr>\n",
       "      <th>1131257104</th>\n",
       "      <td>23721</td>\n",
       "      <td>23700</td>\n",
       "    </tr>\n",
       "    <tr>\n",
       "      <th>6491005</th>\n",
       "      <td>22779</td>\n",
       "      <td>22700</td>\n",
       "    </tr>\n",
       "    <tr>\n",
       "      <th>10</th>\n",
       "      <td>22435</td>\n",
       "      <td>22400</td>\n",
       "    </tr>\n",
       "    <tr>\n",
       "      <th>1087288286</th>\n",
       "      <td>21004</td>\n",
       "      <td>21000</td>\n",
       "    </tr>\n",
       "    <tr>\n",
       "      <th>83490</th>\n",
       "      <td>20044</td>\n",
       "      <td>20000</td>\n",
       "    </tr>\n",
       "    <tr>\n",
       "      <th>388834391</th>\n",
       "      <td>19540</td>\n",
       "      <td>19500</td>\n",
       "    </tr>\n",
       "    <tr>\n",
       "      <th>81640</th>\n",
       "      <td>18919</td>\n",
       "      <td>18900</td>\n",
       "    </tr>\n",
       "    <tr>\n",
       "      <th>1162639826</th>\n",
       "      <td>17045</td>\n",
       "      <td>17000</td>\n",
       "    </tr>\n",
       "    <tr>\n",
       "      <th>1125355314</th>\n",
       "      <td>16965</td>\n",
       "      <td>16900</td>\n",
       "    </tr>\n",
       "    <tr>\n",
       "      <th>1680</th>\n",
       "      <td>16872</td>\n",
       "      <td>16800</td>\n",
       "    </tr>\n",
       "    <tr>\n",
       "      <th>1312469</th>\n",
       "      <td>16705</td>\n",
       "      <td>16700</td>\n",
       "    </tr>\n",
       "    <tr>\n",
       "      <th>534</th>\n",
       "      <td>16623</td>\n",
       "      <td>16600</td>\n",
       "    </tr>\n",
       "    <tr>\n",
       "      <th>394456</th>\n",
       "      <td>15328</td>\n",
       "      <td>15300</td>\n",
       "    </tr>\n",
       "    <tr>\n",
       "      <th>506841</th>\n",
       "      <td>14628</td>\n",
       "      <td>14600</td>\n",
       "    </tr>\n",
       "    <tr>\n",
       "      <th>63</th>\n",
       "      <td>14591</td>\n",
       "      <td>14500</td>\n",
       "    </tr>\n",
       "    <tr>\n",
       "      <th>386909769</th>\n",
       "      <td>13850</td>\n",
       "      <td>13800</td>\n",
       "    </tr>\n",
       "    <tr>\n",
       "      <th>...</th>\n",
       "      <td>...</td>\n",
       "      <td>...</td>\n",
       "    </tr>\n",
       "    <tr>\n",
       "      <th>1164055753</th>\n",
       "      <td>1</td>\n",
       "      <td>0</td>\n",
       "    </tr>\n",
       "    <tr>\n",
       "      <th>1164056656</th>\n",
       "      <td>1</td>\n",
       "      <td>0</td>\n",
       "    </tr>\n",
       "    <tr>\n",
       "      <th>260389</th>\n",
       "      <td>1</td>\n",
       "      <td>0</td>\n",
       "    </tr>\n",
       "    <tr>\n",
       "      <th>1087313240</th>\n",
       "      <td>1</td>\n",
       "      <td>0</td>\n",
       "    </tr>\n",
       "    <tr>\n",
       "      <th>1108286556</th>\n",
       "      <td>1</td>\n",
       "      <td>0</td>\n",
       "    </tr>\n",
       "    <tr>\n",
       "      <th>1087160546</th>\n",
       "      <td>1</td>\n",
       "      <td>0</td>\n",
       "    </tr>\n",
       "    <tr>\n",
       "      <th>1164022778</th>\n",
       "      <td>1</td>\n",
       "      <td>0</td>\n",
       "    </tr>\n",
       "    <tr>\n",
       "      <th>1164022554</th>\n",
       "      <td>1</td>\n",
       "      <td>0</td>\n",
       "    </tr>\n",
       "    <tr>\n",
       "      <th>2648255</th>\n",
       "      <td>1</td>\n",
       "      <td>0</td>\n",
       "    </tr>\n",
       "    <tr>\n",
       "      <th>262028</th>\n",
       "      <td>1</td>\n",
       "      <td>0</td>\n",
       "    </tr>\n",
       "    <tr>\n",
       "      <th>1163998748</th>\n",
       "      <td>1</td>\n",
       "      <td>0</td>\n",
       "    </tr>\n",
       "    <tr>\n",
       "      <th>264553</th>\n",
       "      <td>1</td>\n",
       "      <td>0</td>\n",
       "    </tr>\n",
       "    <tr>\n",
       "      <th>264550072</th>\n",
       "      <td>1</td>\n",
       "      <td>0</td>\n",
       "    </tr>\n",
       "    <tr>\n",
       "      <th>264540</th>\n",
       "      <td>1</td>\n",
       "      <td>0</td>\n",
       "    </tr>\n",
       "    <tr>\n",
       "      <th>1164001374</th>\n",
       "      <td>1</td>\n",
       "      <td>0</td>\n",
       "    </tr>\n",
       "    <tr>\n",
       "      <th>263865</th>\n",
       "      <td>1</td>\n",
       "      <td>0</td>\n",
       "    </tr>\n",
       "    <tr>\n",
       "      <th>1164002107</th>\n",
       "      <td>1</td>\n",
       "      <td>0</td>\n",
       "    </tr>\n",
       "    <tr>\n",
       "      <th>1087313355</th>\n",
       "      <td>1</td>\n",
       "      <td>0</td>\n",
       "    </tr>\n",
       "    <tr>\n",
       "      <th>1164007634</th>\n",
       "      <td>1</td>\n",
       "      <td>0</td>\n",
       "    </tr>\n",
       "    <tr>\n",
       "      <th>1087159064</th>\n",
       "      <td>1</td>\n",
       "      <td>0</td>\n",
       "    </tr>\n",
       "    <tr>\n",
       "      <th>263106</th>\n",
       "      <td>1</td>\n",
       "      <td>0</td>\n",
       "    </tr>\n",
       "    <tr>\n",
       "      <th>1108248677</th>\n",
       "      <td>1</td>\n",
       "      <td>0</td>\n",
       "    </tr>\n",
       "    <tr>\n",
       "      <th>2628</th>\n",
       "      <td>1</td>\n",
       "      <td>0</td>\n",
       "    </tr>\n",
       "    <tr>\n",
       "      <th>1164011781</th>\n",
       "      <td>1</td>\n",
       "      <td>0</td>\n",
       "    </tr>\n",
       "    <tr>\n",
       "      <th>262667</th>\n",
       "      <td>1</td>\n",
       "      <td>0</td>\n",
       "    </tr>\n",
       "    <tr>\n",
       "      <th>1164018250</th>\n",
       "      <td>1</td>\n",
       "      <td>0</td>\n",
       "    </tr>\n",
       "    <tr>\n",
       "      <th>1087313338</th>\n",
       "      <td>1</td>\n",
       "      <td>0</td>\n",
       "    </tr>\n",
       "    <tr>\n",
       "      <th>1087391091</th>\n",
       "      <td>1</td>\n",
       "      <td>0</td>\n",
       "    </tr>\n",
       "    <tr>\n",
       "      <th>262047</th>\n",
       "      <td>1</td>\n",
       "      <td>0</td>\n",
       "    </tr>\n",
       "    <tr>\n",
       "      <th>182634</th>\n",
       "      <td>1</td>\n",
       "      <td>0</td>\n",
       "    </tr>\n",
       "  </tbody>\n",
       "</table>\n",
       "<p>58639 rows × 2 columns</p>\n",
       "</div>"
      ],
      "text/plain": [
       "            number_users  binned\n",
       "5                 130079  130000\n",
       "1099962644        120150  120100\n",
       "388               119193  119100\n",
       "81309              82354   82300\n",
       "81726              70550   70500\n",
       "1334653            43482   43400\n",
       "83981              43090   43000\n",
       "585119             39888   39800\n",
       "521                31933   31900\n",
       "84734              28686   28600\n",
       "81340              28380   28300\n",
       "1902               26712   26700\n",
       "2077               26096   26000\n",
       "83660              26077   26000\n",
       "1131257104         23721   23700\n",
       "6491005            22779   22700\n",
       "10                 22435   22400\n",
       "1087288286         21004   21000\n",
       "83490              20044   20000\n",
       "388834391          19540   19500\n",
       "81640              18919   18900\n",
       "1162639826         17045   17000\n",
       "1125355314         16965   16900\n",
       "1680               16872   16800\n",
       "1312469            16705   16700\n",
       "534                16623   16600\n",
       "394456             15328   15300\n",
       "506841             14628   14600\n",
       "63                 14591   14500\n",
       "386909769          13850   13800\n",
       "...                  ...     ...\n",
       "1164055753             1       0\n",
       "1164056656             1       0\n",
       "260389                 1       0\n",
       "1087313240             1       0\n",
       "1108286556             1       0\n",
       "1087160546             1       0\n",
       "1164022778             1       0\n",
       "1164022554             1       0\n",
       "2648255                1       0\n",
       "262028                 1       0\n",
       "1163998748             1       0\n",
       "264553                 1       0\n",
       "264550072              1       0\n",
       "264540                 1       0\n",
       "1164001374             1       0\n",
       "263865                 1       0\n",
       "1164002107             1       0\n",
       "1087313355             1       0\n",
       "1164007634             1       0\n",
       "1087159064             1       0\n",
       "263106                 1       0\n",
       "1108248677             1       0\n",
       "2628                   1       0\n",
       "1164011781             1       0\n",
       "262667                 1       0\n",
       "1164018250             1       0\n",
       "1087313338             1       0\n",
       "1087391091             1       0\n",
       "262047                 1       0\n",
       "182634                 1       0\n",
       "\n",
       "[58639 rows x 2 columns]"
      ]
     },
     "execution_count": 34,
     "metadata": {},
     "output_type": "execute_result"
    }
   ],
   "source": [
    "df_conv_site"
   ]
  },
  {
   "cell_type": "code",
   "execution_count": 44,
   "metadata": {
    "collapsed": false
   },
   "outputs": [],
   "source": [
    "bins_nconv = df_conv_site.drop(['number_users'],axis=1).apply(pd.value_counts).fillna(0)"
   ]
  },
  {
   "cell_type": "code",
   "execution_count": 52,
   "metadata": {
    "collapsed": false
   },
   "outputs": [
    {
     "data": {
      "text/html": [
       "<div>\n",
       "<table border=\"1\" class=\"dataframe\">\n",
       "  <thead>\n",
       "    <tr style=\"text-align: right;\">\n",
       "      <th></th>\n",
       "      <th>binned</th>\n",
       "      <th>bin_nusers</th>\n",
       "    </tr>\n",
       "  </thead>\n",
       "  <tbody>\n",
       "    <tr>\n",
       "      <th>13200</th>\n",
       "      <td>1</td>\n",
       "      <td>1885</td>\n",
       "    </tr>\n",
       "    <tr>\n",
       "      <th>16800</th>\n",
       "      <td>1</td>\n",
       "      <td>2400</td>\n",
       "    </tr>\n",
       "    <tr>\n",
       "      <th>8700</th>\n",
       "      <td>1</td>\n",
       "      <td>1242</td>\n",
       "    </tr>\n",
       "    <tr>\n",
       "      <th>22700</th>\n",
       "      <td>1</td>\n",
       "      <td>3242</td>\n",
       "    </tr>\n",
       "    <tr>\n",
       "      <th>23700</th>\n",
       "      <td>1</td>\n",
       "      <td>3385</td>\n",
       "    </tr>\n",
       "  </tbody>\n",
       "</table>\n",
       "</div>"
      ],
      "text/plain": [
       "       binned  bin_nusers\n",
       "13200       1        1885\n",
       "16800       1        2400\n",
       "8700        1        1242\n",
       "22700       1        3242\n",
       "23700       1        3385"
      ]
     },
     "execution_count": 52,
     "metadata": {},
     "output_type": "execute_result"
    }
   ],
   "source": [
    "bins_nconv.tail()"
   ]
  },
  {
   "cell_type": "code",
   "execution_count": 51,
   "metadata": {
    "collapsed": false
   },
   "outputs": [],
   "source": [
    "#bins_nconv['sitesperbin']=bins_nconv['number_users']\n",
    "bins_nconv['bin_nusers']=(bins_nconv.index//7.)"
   ]
  },
  {
   "cell_type": "code",
   "execution_count": 54,
   "metadata": {
    "collapsed": false
   },
   "outputs": [
    {
     "data": {
      "text/plain": [
       "[<matplotlib.lines.Line2D at 0x124d6ea90>]"
      ]
     },
     "execution_count": 54,
     "metadata": {},
     "output_type": "execute_result"
    },
    {
     "data": {
      "image/png": "[encoded data removed]",
      "text/plain": [
       "<matplotlib.figure.Figure at 0x1237bb290>"
      ]
     },
     "metadata": {},
     "output_type": "display_data"
    }
   ],
   "source": [
    "sns.set_context(\"notebook\", font_scale=1.6, rc={\"lines.linewidth\": 2.5})\n",
    "fig, ax = plt.subplots()\n",
    "ax.loglog(bins_nconv.bin_nusers,bins_nconv.binned, label=\"converters\")"
   ]
  },
  {
   "cell_type": "code",
   "execution_count": 11,
   "metadata": {
    "collapsed": false
   },
   "outputs": [],
   "source": [
    "bins_nconv_sorted=bins_nconv.drop(['number_users'],axis=1).sort(['sitesperbin'])\n",
    "#bins_nconv_sorted.head(3)"
   ]
  },
  {
   "cell_type": "code",
   "execution_count": 14,
   "metadata": {
    "collapsed": false
   },
   "outputs": [],
   "source": [
    "bins_nusers = df_users_site.apply(pd.value_counts).fillna(0)\n",
    "bins_nusers['sitesperbin']=bins_nusers['number_users']\n",
    "bins_nusers['bin_nusers']=bins_nusers.index*(470.015970/3.)\n",
    "bins_nusers_sorted=bins_nusers.drop(['number_users'],axis=1).sort(['sitesperbin'])\n",
    "#bins_nusers_sorted.head(30)"
   ]
  },
  {
   "cell_type": "code",
   "execution_count": 15,
   "metadata": {
    "collapsed": false
   },
   "outputs": [
    {
     "data": {
      "text/plain": [
       "<matplotlib.text.Text at 0x14a575e90>"
      ]
     },
     "execution_count": 15,
     "metadata": {},
     "output_type": "execute_result"
    },
    {
     "data": {
      "image/png": "[encoded data removed]",
      "text/plain": [
       "<matplotlib.figure.Figure at 0x106ad3a90>"
      ]
     },
     "metadata": {},
     "output_type": "display_data"
    }
   ],
   "source": [
    "#matplotlib.rcParams.update({'font.size': 18, 'font.family': 'serif'})\n",
    "sns.set_context(\"notebook\", font_scale=1.6, rc={\"lines.linewidth\": 2.5})\n",
    "fig, ax = plt.subplots()\n",
    "ax.loglog(bins_nconv_sorted.sitesperbin,bins_nconv_sorted.bin_nusers, label=\"converters\")\n",
    "ax.loglog(bins_nusers_sorted.sitesperbin,bins_nusers_sorted.bin_nusers, label=\"users\")\n",
    "#ax.set_yscale(\"log\")\n",
    "ax.legend([\"converters\", \"users\"], fontsize=22);\n",
    "ax.set_ylim([0, 10000000])\n",
    "ax.set_xlim([0, 100000])\n",
    "ax.set_xlabel(r'N. sites', fontsize=25)\n",
    "ax.set_ylabel(r'N. events/site', fontsize=25)\n",
    "#plt.scatter(bins_nusers_sorted_sample.bin_nusers,bins_nusers_sorted_sample.integral)\n",
    "#plt.gca().set_xscale(\"log\")\n",
    "#plt.show()"
   ]
  },
  {
   "cell_type": "code",
   "execution_count": null,
   "metadata": {
    "collapsed": true
   },
   "outputs": [],
   "source": []
  }
 ],
 "metadata": {
  "kernelspec": {
   "display_name": "Python 2",
   "language": "python",
   "name": "python2"
  },
  "language_info": {
   "codemirror_mode": {
    "name": "ipython",
    "version": 2
   },
   "file_extension": ".py",
   "mimetype": "text/x-python",
   "name": "python",
   "nbconvert_exporter": "python",
   "pygments_lexer": "ipython2",
   "version": "2.7.10"
  }
 },
 "nbformat": 4,
 "nbformat_minor": 0
}
